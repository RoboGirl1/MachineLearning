{
  "nbformat": 4,
  "nbformat_minor": 0,
  "metadata": {
    "colab": {
      "name": "PythonAssignment.ipynb",
      "provenance": [],
      "collapsed_sections": [],
      "authorship_tag": "ABX9TyMGZqqHHqekTF1OgoGiX8gk",
      "include_colab_link": true
    },
    "kernelspec": {
      "name": "python3",
      "display_name": "Python 3"
    },
    "language_info": {
      "name": "python"
    }
  },
  "cells": [
    {
      "cell_type": "markdown",
      "metadata": {
        "id": "view-in-github",
        "colab_type": "text"
      },
      "source": [
        "<a href=\"https://colab.research.google.com/github/RoboGirl1/MachineLearning/blob/main/PythonAssignment.ipynb\" target=\"_parent\"><img src=\"https://colab.research.google.com/assets/colab-badge.svg\" alt=\"Open In Colab\"/></a>"
      ]
    },
    {
      "cell_type": "code",
      "execution_count": 18,
      "metadata": {
        "colab": {
          "base_uri": "https://localhost:8080/"
        },
        "id": "0B-rn4CI8W51",
        "outputId": "7f16fcdd-b80f-4aa1-93a2-653809d4ad9d"
      },
      "outputs": [
        {
          "output_type": "stream",
          "name": "stdout",
          "text": [
            "                Average_Expenditure  StdDev_Expenditure\n",
            "Employee_Level                                         \n",
            "Level A                30766.086957        11405.541170\n",
            "Level B                29021.409091         9503.357440\n",
            "Level C                31431.718750        11492.122994\n"
          ]
        }
      ],
      "source": [
        "import pandas as  pd\n",
        "#Import data\n",
        "employee =  pd.read_excel(\"Python_Excercise.xlsx\")\n",
        "\n",
        "#Grouping and calculate mean and standard deviation of expenditure column\n",
        "Average_Expenditure = employee.groupby('Employee_Level')['Expenditure'].mean()\n",
        "StdDev_Expenditure = employee.groupby('Employee_Level')['Expenditure'].std()\n",
        "\n",
        "#to merge two Pandas Series into a DataFrame\n",
        "df = pd.concat([Average_Expenditure, StdDev_Expenditure], axis=1, keys=['Average_Expenditure', 'StdDev_Expenditure'])\n",
        "\n",
        "print(df)\n",
        "\n",
        "# to export result into csv\n",
        "df.to_csv('Employee_Expenditure.csv')\n"
      ]
    }
  ]
}